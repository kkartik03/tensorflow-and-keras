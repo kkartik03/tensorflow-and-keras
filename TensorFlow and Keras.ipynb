{
 "cells": [
  {
   "cell_type": "markdown",
   "metadata": {},
   "source": [
    "# MNIST DATASET - TENSORFLOW"
   ]
  },
  {
   "cell_type": "code",
   "execution_count": 4,
   "metadata": {},
   "outputs": [],
   "source": [
    "import pandas as pd\n",
    "import numpy as np\n",
    "import tensorflow as tf"
   ]
  },
  {
   "cell_type": "code",
   "execution_count": 5,
   "metadata": {},
   "outputs": [],
   "source": [
    "from tensorflow.examples.tutorials.mnist import input_data"
   ]
  },
  {
   "cell_type": "code",
   "execution_count": 16,
   "metadata": {},
   "outputs": [
    {
     "name": "stdout",
     "output_type": "stream",
     "text": [
      "Extracting MNIST_data/train-images-idx3-ubyte.gz\n",
      "Extracting MNIST_data/train-labels-idx1-ubyte.gz\n",
      "WARNING:tensorflow:From C:\\Users\\Kabir\\anaconda3\\lib\\site-packages\\tensorflow\\contrib\\learn\\python\\learn\\datasets\\mnist.py:110: dense_to_one_hot (from tensorflow.contrib.learn.python.learn.datasets.mnist) is deprecated and will be removed in a future version.\n",
      "Instructions for updating:\n",
      "Please use tf.one_hot on tensors.\n",
      "Extracting MNIST_data/t10k-images-idx3-ubyte.gz\n",
      "Extracting MNIST_data/t10k-labels-idx1-ubyte.gz\n"
     ]
    }
   ],
   "source": [
    "mnist = input_data.read_data_sets(\"MNIST_data/\", one_hot=True)"
   ]
  },
  {
   "cell_type": "code",
   "execution_count": 17,
   "metadata": {},
   "outputs": [
    {
     "data": {
      "text/plain": [
       "Datasets(train=<tensorflow.contrib.learn.python.learn.datasets.mnist.DataSet object at 0x00000209E9DF34C8>, validation=<tensorflow.contrib.learn.python.learn.datasets.mnist.DataSet object at 0x00000209EAAD86C8>, test=<tensorflow.contrib.learn.python.learn.datasets.mnist.DataSet object at 0x00000209EAAD8E48>)"
      ]
     },
     "execution_count": 17,
     "metadata": {},
     "output_type": "execute_result"
    }
   ],
   "source": [
    "mnist"
   ]
  },
  {
   "cell_type": "code",
   "execution_count": 18,
   "metadata": {},
   "outputs": [
    {
     "data": {
      "text/plain": [
       "((55000, 784), (55000, 10))"
      ]
     },
     "execution_count": 18,
     "metadata": {},
     "output_type": "execute_result"
    }
   ],
   "source": [
    "mnist.train.images.shape, mnist.train.labels.shape"
   ]
  },
  {
   "cell_type": "code",
   "execution_count": 19,
   "metadata": {},
   "outputs": [
    {
     "data": {
      "text/plain": [
       "array([[0., 0., 0., ..., 1., 0., 0.],\n",
       "       [0., 0., 0., ..., 0., 0., 0.],\n",
       "       [0., 0., 0., ..., 0., 0., 0.],\n",
       "       ...,\n",
       "       [0., 0., 0., ..., 0., 0., 0.],\n",
       "       [0., 0., 0., ..., 0., 0., 0.],\n",
       "       [0., 0., 0., ..., 0., 1., 0.]])"
      ]
     },
     "execution_count": 19,
     "metadata": {},
     "output_type": "execute_result"
    }
   ],
   "source": [
    "mnist.train.labels"
   ]
  },
  {
   "cell_type": "code",
   "execution_count": 20,
   "metadata": {},
   "outputs": [
    {
     "data": {
      "text/plain": [
       "(10000, 784)"
      ]
     },
     "execution_count": 20,
     "metadata": {},
     "output_type": "execute_result"
    }
   ],
   "source": [
    "mnist.test.images.shape"
   ]
  },
  {
   "cell_type": "code",
   "execution_count": 21,
   "metadata": {},
   "outputs": [
    {
     "data": {
      "text/plain": [
       "(5000, 784)"
      ]
     },
     "execution_count": 21,
     "metadata": {},
     "output_type": "execute_result"
    }
   ],
   "source": [
    "mnist.validation.images.shape"
   ]
  },
  {
   "cell_type": "markdown",
   "metadata": {},
   "source": [
    "### To load the Image"
   ]
  },
  {
   "cell_type": "code",
   "execution_count": 24,
   "metadata": {},
   "outputs": [
    {
     "data": {
      "text/plain": [
       "<function matplotlib.pyplot.show(*args, **kw)>"
      ]
     },
     "execution_count": 24,
     "metadata": {},
     "output_type": "execute_result"
    },
    {
     "data": {
      "image/png": "[encoded data removed]",
      "text/plain": [
       "<Figure size 432x288 with 1 Axes>"
      ]
     },
     "metadata": {
      "needs_background": "light"
     },
     "output_type": "display_data"
    }
   ],
   "source": [
    "from matplotlib import pyplot as plt\n",
    "first_image = mnist.train.images[1]\n",
    "first_image = np.array(first_image, dtype='float')\n",
    "first_image = first_image.reshape(28,28)\n",
    "plt.imshow(first_image)\n",
    "plt.show"
   ]
  },
  {
   "cell_type": "markdown",
   "metadata": {},
   "source": [
    "### Initialising Weights and Biases"
   ]
  },
  {
   "cell_type": "code",
   "execution_count": 26,
   "metadata": {},
   "outputs": [],
   "source": [
    "n_input = 784\n",
    "n_hidden_1 = 256\n",
    "n_hidden_2 = 256\n",
    "n_classes = 10\n",
    "weights = {\n",
    "    'h1' : tf.Variable(tf.random_normal([n_input, n_hidden_1])),\n",
    "    'h2' : tf.Variable(tf.random_normal([n_hidden_1, n_hidden_2])),\n",
    "    'out' : tf.Variable(tf.random_normal([n_hidden_2, n_classes]))\n",
    "}\n",
    "\n",
    "biases = {\n",
    "    'h1' : tf.Variable(tf.random_normal([n_hidden_1])),\n",
    "    'h2' : tf.Variable(tf.random_normal([n_hidden_2])),\n",
    "    'out': tf.Variable(tf.random_normal([n_classes]))\n",
    "}"
   ]
  },
  {
   "cell_type": "markdown",
   "metadata": {},
   "source": [
    "### Forward Propagation"
   ]
  },
  {
   "cell_type": "code",
   "execution_count": 27,
   "metadata": {},
   "outputs": [],
   "source": [
    "def forward_propagation(x, weights, biases):\n",
    "    in_layer1 = tf.add(tf.matmul(x, weights['h1']), biases['h1'])\n",
    "    out_layer1 = tf.nn.relu(in_layer1)\n",
    "    \n",
    "    in_layer2 = tf.add(tf.matmul(out_layer1, weights['h2']), biases['h2'])\n",
    "    out_layer2 = tf.nn.relu(in_layer2)\n",
    "    \n",
    "    output = tf.add(tf.matmul(out_layer2, weights['out']), biases['out'])\n",
    "    return output"
   ]
  },
  {
   "cell_type": "markdown",
   "metadata": {},
   "source": [
    "### Predictions and Accuracy"
   ]
  },
  {
   "cell_type": "code",
   "execution_count": 35,
   "metadata": {},
   "outputs": [],
   "source": [
    "x = tf.placeholder(\"float\",[None,n_input])\n",
    "y = tf.placeholder(tf.int32,[None,n_classes])\n",
    "pred = forward_propagation(x, weights, biases)"
   ]
  },
  {
   "cell_type": "code",
   "execution_count": 39,
   "metadata": {},
   "outputs": [],
   "source": [
    "predictions = tf.argmax(pred, 1)\n",
    "true_labels = tf.argmax(y, 1)\n",
    "correct_predictions = tf.equal(predictions, true_labels)"
   ]
  },
  {
   "cell_type": "code",
   "execution_count": 42,
   "metadata": {},
   "outputs": [
    {
     "data": {
      "text/plain": [
       "(array([9, 1, 0, ..., 9, 0, 1], dtype=int64),\n",
       " array([7, 3, 4, ..., 5, 6, 8], dtype=int64),\n",
       " array([False, False, False, ..., False, False, False]))"
      ]
     },
     "execution_count": 42,
     "metadata": {},
     "output_type": "execute_result"
    }
   ],
   "source": [
    "predictions_eval, labels, correct_pred = sess.run([predictions, true_labels, correct_predictions], feed_dict = {x:mnist.train.images, y:mnist.train.labels})\n",
    "predictions_eval, labels, correct_pred"
   ]
  },
  {
   "cell_type": "code",
   "execution_count": 43,
   "metadata": {},
   "outputs": [
    {
     "data": {
      "text/plain": [
       "5584"
      ]
     },
     "execution_count": 43,
     "metadata": {},
     "output_type": "execute_result"
    }
   ],
   "source": [
    "correct_pred.sum()"
   ]
  },
  {
   "cell_type": "markdown",
   "metadata": {},
   "source": [
    "### Optimzer"
   ]
  },
  {
   "cell_type": "code",
   "execution_count": 91,
   "metadata": {},
   "outputs": [],
   "source": [
    "cost = tf.reduce_mean(tf.nn.softmax_cross_entropy_with_logits(logits=pred, labels =y))"
   ]
  },
  {
   "cell_type": "code",
   "execution_count": 92,
   "metadata": {},
   "outputs": [],
   "source": [
    "optimizer = tf.train.AdamOptimizer(learning_rate=0.01)\n",
    "optimize = optimizer.minimize(cost)"
   ]
  },
  {
   "cell_type": "code",
   "execution_count": 100,
   "metadata": {},
   "outputs": [],
   "source": [
    "sess = tf.Session()\n",
    "sess.run(tf.global_variables_initializer())"
   ]
  },
  {
   "cell_type": "code",
   "execution_count": 101,
   "metadata": {},
   "outputs": [
    {
     "name": "stdout",
     "output_type": "stream",
     "text": [
      "24930.439908385277\n",
      "4633.030535098314\n",
      "2615.686064048252\n",
      "1907.6241249271307\n",
      "1520.1237495737332\n",
      "1314.9071286929784\n",
      "1112.5434851383975\n",
      "977.6188726491705\n",
      "925.2369469337365\n",
      "893.4657037528966\n",
      "714.9681486076752\n",
      "580.9893309301216\n",
      "479.0621110195216\n",
      "492.9938104874208\n",
      "460.6806543513654\n",
      "408.16969852674725\n",
      "413.2821874059701\n",
      "376.5263672297671\n",
      "269.1814496574904\n",
      "244.09171437270788\n",
      "239.03398475986188\n",
      "287.0328364010363\n",
      "201.26540350903088\n",
      "182.8787084946174\n",
      "158.49884397517224\n"
     ]
    }
   ],
   "source": [
    "batch_size = 100\n",
    "for i in range(25):\n",
    "    num_batches = int(mnist.train.num_examples/batch_size)\n",
    "    total_cost = 0\n",
    "    for j in range(num_batches):\n",
    "        batch_x, batch_y = mnist.train.next_batch(batch_size)\n",
    "        c, _ = sess.run( [cost,optimize], feed_dict = {x:batch_x, y: batch_y})\n",
    "        total_cost +=c\n",
    "    print(total_cost)"
   ]
  },
  {
   "cell_type": "code",
   "execution_count": 102,
   "metadata": {},
   "outputs": [
    {
     "data": {
      "text/plain": [
       "(array([7, 2, 1, ..., 4, 5, 6], dtype=int64),\n",
       " array([7, 2, 1, ..., 4, 5, 6], dtype=int64),\n",
       " array([ True,  True,  True, ...,  True,  True,  True]))"
      ]
     },
     "execution_count": 102,
     "metadata": {},
     "output_type": "execute_result"
    }
   ],
   "source": [
    "predictions = tf.argmax(pred, 1)\n",
    "true_labels = tf.argmax(y, 1)\n",
    "correct_predictions = tf.equal(predictions, true_labels)\n",
    "predictions_eval, labels, correct_pred = sess.run([predictions, true_labels, correct_predictions], feed_dict = {x:mnist.test.images, y:mnist.test.labels})\n",
    "predictions_eval, labels, correct_pred"
   ]
  },
  {
   "cell_type": "code",
   "execution_count": 103,
   "metadata": {},
   "outputs": [
    {
     "data": {
      "text/plain": [
       "9639"
      ]
     },
     "execution_count": 103,
     "metadata": {},
     "output_type": "execute_result"
    }
   ],
   "source": [
    "correct_pred.sum()"
   ]
  },
  {
   "cell_type": "markdown",
   "metadata": {},
   "source": [
    "Reached accuracy of 96.39%"
   ]
  },
  {
   "cell_type": "markdown",
   "metadata": {},
   "source": [
    "# Keras"
   ]
  },
  {
   "cell_type": "code",
   "execution_count": 121,
   "metadata": {},
   "outputs": [],
   "source": [
    "from keras.models import Sequential\n",
    "model = Sequential()"
   ]
  },
  {
   "cell_type": "code",
   "execution_count": 122,
   "metadata": {},
   "outputs": [],
   "source": [
    "from keras.layers import Dense\n",
    "layer1 = Dense(units=32, activation = 'relu', input_dim = 30)\n",
    "model.add(layer1)\n",
    "model.add(Dense(units=16, activation = 'relu'))\n",
    "model.add(Dense(units=1, activation = 'sigmoid'))"
   ]
  },
  {
   "cell_type": "code",
   "execution_count": 123,
   "metadata": {},
   "outputs": [],
   "source": [
    "model.compile(optimizer='adam', loss='binary_crossentropy', metrics=['accuracy'])"
   ]
  },
  {
   "cell_type": "code",
   "execution_count": 124,
   "metadata": {},
   "outputs": [],
   "source": [
    "from sklearn import datasets\n",
    "from sklearn.preprocessing import StandardScaler\n",
    "cancer  = datasets.load_breast_cancer()\n",
    "from sklearn.model_selection import train_test_split\n",
    "x_train, x_test, y_train, y_test = train_test_split(cancer.data, cancer.target, test_size=0.2, random_state=0)\n",
    "sc = StandardScaler()\n",
    "x_train = sc.fit_transform(x_train)\n",
    "x_test = sc.transform(x_test)"
   ]
  },
  {
   "cell_type": "code",
   "execution_count": 125,
   "metadata": {},
   "outputs": [
    {
     "name": "stdout",
     "output_type": "stream",
     "text": [
      "Train on 455 samples, validate on 114 samples\n",
      "Epoch 1/40\n",
      "455/455 [==============================] - 0s 1ms/step - loss: 0.7264 - accuracy: 0.5978 - val_loss: 0.6544 - val_accuracy: 0.6053\n",
      "Epoch 2/40\n",
      "455/455 [==============================] - 0s 53us/step - loss: 0.5145 - accuracy: 0.7319 - val_loss: 0.5065 - val_accuracy: 0.8333\n",
      "Epoch 3/40\n",
      "455/455 [==============================] - 0s 46us/step - loss: 0.3895 - accuracy: 0.8769 - val_loss: 0.4062 - val_accuracy: 0.8596\n",
      "Epoch 4/40\n",
      "455/455 [==============================] - 0s 57us/step - loss: 0.3038 - accuracy: 0.9253 - val_loss: 0.3402 - val_accuracy: 0.8596\n",
      "Epoch 5/40\n",
      "455/455 [==============================] - 0s 55us/step - loss: 0.2448 - accuracy: 0.9341 - val_loss: 0.2938 - val_accuracy: 0.8772\n",
      "Epoch 6/40\n",
      "455/455 [==============================] - 0s 70us/step - loss: 0.2008 - accuracy: 0.9407 - val_loss: 0.2593 - val_accuracy: 0.9123\n",
      "Epoch 7/40\n",
      "455/455 [==============================] - 0s 46us/step - loss: 0.1694 - accuracy: 0.9560 - val_loss: 0.2350 - val_accuracy: 0.9211\n",
      "Epoch 8/40\n",
      "455/455 [==============================] - 0s 48us/step - loss: 0.1480 - accuracy: 0.9648 - val_loss: 0.2145 - val_accuracy: 0.9386\n",
      "Epoch 9/40\n",
      "455/455 [==============================] - 0s 50us/step - loss: 0.1311 - accuracy: 0.9714 - val_loss: 0.1999 - val_accuracy: 0.9386\n",
      "Epoch 10/40\n",
      "455/455 [==============================] - 0s 61us/step - loss: 0.1184 - accuracy: 0.9736 - val_loss: 0.1882 - val_accuracy: 0.9386\n",
      "Epoch 11/40\n",
      "455/455 [==============================] - 0s 53us/step - loss: 0.1082 - accuracy: 0.9736 - val_loss: 0.1796 - val_accuracy: 0.9386\n",
      "Epoch 12/40\n",
      "455/455 [==============================] - 0s 53us/step - loss: 0.1001 - accuracy: 0.9736 - val_loss: 0.1728 - val_accuracy: 0.9474\n",
      "Epoch 13/40\n",
      "455/455 [==============================] - 0s 57us/step - loss: 0.0938 - accuracy: 0.9736 - val_loss: 0.1675 - val_accuracy: 0.9474\n",
      "Epoch 14/40\n",
      "455/455 [==============================] - 0s 55us/step - loss: 0.0882 - accuracy: 0.9780 - val_loss: 0.1632 - val_accuracy: 0.9474\n",
      "Epoch 15/40\n",
      "455/455 [==============================] - 0s 46us/step - loss: 0.0838 - accuracy: 0.9824 - val_loss: 0.1589 - val_accuracy: 0.9474\n",
      "Epoch 16/40\n",
      "455/455 [==============================] - 0s 55us/step - loss: 0.0802 - accuracy: 0.9824 - val_loss: 0.1547 - val_accuracy: 0.9474\n",
      "Epoch 17/40\n",
      "455/455 [==============================] - 0s 59us/step - loss: 0.0769 - accuracy: 0.9824 - val_loss: 0.1520 - val_accuracy: 0.9474\n",
      "Epoch 18/40\n",
      "455/455 [==============================] - 0s 81us/step - loss: 0.0741 - accuracy: 0.9824 - val_loss: 0.1503 - val_accuracy: 0.9561\n",
      "Epoch 19/40\n",
      "455/455 [==============================] - 0s 77us/step - loss: 0.0714 - accuracy: 0.9824 - val_loss: 0.1478 - val_accuracy: 0.9561\n",
      "Epoch 20/40\n",
      "455/455 [==============================] - 0s 66us/step - loss: 0.0691 - accuracy: 0.9824 - val_loss: 0.1457 - val_accuracy: 0.9561\n",
      "Epoch 21/40\n",
      "455/455 [==============================] - 0s 50us/step - loss: 0.0672 - accuracy: 0.9824 - val_loss: 0.1483 - val_accuracy: 0.9561\n",
      "Epoch 22/40\n",
      "455/455 [==============================] - 0s 57us/step - loss: 0.0653 - accuracy: 0.9824 - val_loss: 0.1473 - val_accuracy: 0.9561\n",
      "Epoch 23/40\n",
      "455/455 [==============================] - 0s 57us/step - loss: 0.0637 - accuracy: 0.9846 - val_loss: 0.1465 - val_accuracy: 0.9561\n",
      "Epoch 24/40\n",
      "455/455 [==============================] - 0s 48us/step - loss: 0.0624 - accuracy: 0.9846 - val_loss: 0.1443 - val_accuracy: 0.9649\n",
      "Epoch 25/40\n",
      "455/455 [==============================] - 0s 44us/step - loss: 0.0608 - accuracy: 0.9846 - val_loss: 0.1432 - val_accuracy: 0.9649\n",
      "Epoch 26/40\n",
      "455/455 [==============================] - 0s 48us/step - loss: 0.0594 - accuracy: 0.9846 - val_loss: 0.1407 - val_accuracy: 0.9737\n",
      "Epoch 27/40\n",
      "455/455 [==============================] - 0s 44us/step - loss: 0.0588 - accuracy: 0.9824 - val_loss: 0.1390 - val_accuracy: 0.9737\n",
      "Epoch 28/40\n",
      "455/455 [==============================] - 0s 50us/step - loss: 0.0576 - accuracy: 0.9824 - val_loss: 0.1379 - val_accuracy: 0.9649\n",
      "Epoch 29/40\n",
      "455/455 [==============================] - 0s 53us/step - loss: 0.0564 - accuracy: 0.9824 - val_loss: 0.1371 - val_accuracy: 0.9649\n",
      "Epoch 30/40\n",
      "455/455 [==============================] - 0s 50us/step - loss: 0.0552 - accuracy: 0.9868 - val_loss: 0.1365 - val_accuracy: 0.9649\n",
      "Epoch 31/40\n",
      "455/455 [==============================] - 0s 59us/step - loss: 0.0540 - accuracy: 0.9868 - val_loss: 0.1362 - val_accuracy: 0.9649\n",
      "Epoch 32/40\n",
      "455/455 [==============================] - 0s 55us/step - loss: 0.0529 - accuracy: 0.9868 - val_loss: 0.1356 - val_accuracy: 0.9649\n",
      "Epoch 33/40\n",
      "455/455 [==============================] - 0s 49us/step - loss: 0.0522 - accuracy: 0.9868 - val_loss: 0.1350 - val_accuracy: 0.9649\n",
      "Epoch 34/40\n",
      "455/455 [==============================] - 0s 59us/step - loss: 0.0512 - accuracy: 0.9868 - val_loss: 0.1348 - val_accuracy: 0.9649\n",
      "Epoch 35/40\n",
      "455/455 [==============================] - 0s 44us/step - loss: 0.0505 - accuracy: 0.9868 - val_loss: 0.1346 - val_accuracy: 0.9649\n",
      "Epoch 36/40\n",
      "455/455 [==============================] - 0s 59us/step - loss: 0.0497 - accuracy: 0.9868 - val_loss: 0.1336 - val_accuracy: 0.9649\n",
      "Epoch 37/40\n",
      "455/455 [==============================] - 0s 46us/step - loss: 0.0489 - accuracy: 0.9868 - val_loss: 0.1322 - val_accuracy: 0.9649\n",
      "Epoch 38/40\n",
      "455/455 [==============================] - 0s 57us/step - loss: 0.0480 - accuracy: 0.9890 - val_loss: 0.1336 - val_accuracy: 0.9649\n",
      "Epoch 39/40\n",
      "455/455 [==============================] - 0s 44us/step - loss: 0.0470 - accuracy: 0.9890 - val_loss: 0.1343 - val_accuracy: 0.9737\n",
      "Epoch 40/40\n",
      "455/455 [==============================] - 0s 46us/step - loss: 0.0461 - accuracy: 0.9912 - val_loss: 0.1376 - val_accuracy: 0.9737\n"
     ]
    },
    {
     "data": {
      "text/plain": [
       "<keras.callbacks.callbacks.History at 0x20986c1f548>"
      ]
     },
     "execution_count": 125,
     "metadata": {},
     "output_type": "execute_result"
    }
   ],
   "source": [
    "model.fit(x_train, y_train, epochs=40, batch_size=50, validation_data = (x_test, y_test))"
   ]
  },
  {
   "cell_type": "code",
   "execution_count": 126,
   "metadata": {},
   "outputs": [
    {
     "data": {
      "text/plain": [
       "array([[5.2582920e-03],\n",
       "       [9.7329676e-01],\n",
       "       [9.9923855e-01],\n",
       "       [9.9632192e-01],\n",
       "       [9.9881774e-01],\n",
       "       [9.9733222e-01],\n",
       "       [9.9975336e-01],\n",
       "       [9.9899399e-01],\n",
       "       [9.9996448e-01],\n",
       "       [9.9998093e-01],\n",
       "       [8.7178206e-01],\n",
       "       [8.7376857e-01],\n",
       "       [9.9995589e-01],\n",
       "       [7.7532768e-02],\n",
       "       [7.3584867e-01],\n",
       "       [6.3335001e-03],\n",
       "       [9.9986684e-01],\n",
       "       [4.4286251e-05],\n",
       "       [3.5554171e-05],\n",
       "       [2.0861626e-07],\n",
       "       [3.6800504e-03],\n",
       "       [1.6744494e-02],\n",
       "       [9.8777896e-01],\n",
       "       [9.9856931e-01],\n",
       "       [1.1300445e-03],\n",
       "       [9.9959922e-01],\n",
       "       [9.9996531e-01],\n",
       "       [7.3122382e-03],\n",
       "       [9.9906445e-01],\n",
       "       [3.5464764e-06],\n",
       "       [9.9983811e-01],\n",
       "       [3.2502413e-04],\n",
       "       [9.6048689e-01],\n",
       "       [3.5636425e-03],\n",
       "       [9.9999285e-01],\n",
       "       [1.7515123e-03],\n",
       "       [9.9201369e-01],\n",
       "       [4.9054623e-04],\n",
       "       [9.9392736e-01],\n",
       "       [1.6689003e-03],\n",
       "       [7.0414126e-02],\n",
       "       [9.9986935e-01],\n",
       "       [6.4448357e-02],\n",
       "       [9.9990916e-01],\n",
       "       [9.8753965e-01],\n",
       "       [2.0861626e-07],\n",
       "       [9.9999523e-01],\n",
       "       [9.7722471e-01],\n",
       "       [9.9849933e-01],\n",
       "       [4.4703484e-05],\n",
       "       [1.2576580e-05],\n",
       "       [9.3236297e-02],\n",
       "       [1.5956163e-04],\n",
       "       [9.9919629e-01],\n",
       "       [9.9576598e-01],\n",
       "       [9.9954379e-01],\n",
       "       [9.9944723e-01],\n",
       "       [9.9208969e-01],\n",
       "       [9.9529296e-01],\n",
       "       [1.4901161e-07],\n",
       "       [6.1643124e-03],\n",
       "       [9.2995167e-04],\n",
       "       [9.9987143e-01],\n",
       "       [9.9681604e-01],\n",
       "       [9.4470382e-04],\n",
       "       [9.6940744e-01],\n",
       "       [0.0000000e+00],\n",
       "       [2.9325485e-05],\n",
       "       [3.0994415e-06],\n",
       "       [9.9885511e-01],\n",
       "       [7.3244095e-01],\n",
       "       [8.5920095e-05],\n",
       "       [9.9768186e-01],\n",
       "       [3.1669867e-01],\n",
       "       [1.6391277e-06],\n",
       "       [9.9158549e-01],\n",
       "       [9.9990463e-01],\n",
       "       [9.7338575e-01],\n",
       "       [9.9979270e-01],\n",
       "       [9.9993777e-01],\n",
       "       [1.2438774e-02],\n",
       "       [0.0000000e+00],\n",
       "       [2.1040440e-05],\n",
       "       [9.9963260e-01],\n",
       "       [6.7822337e-03],\n",
       "       [9.9916661e-01],\n",
       "       [9.9995232e-01],\n",
       "       [9.9998879e-01],\n",
       "       [1.6584992e-04],\n",
       "       [0.0000000e+00],\n",
       "       [9.9992639e-01],\n",
       "       [4.4617608e-01],\n",
       "       [2.2281459e-01],\n",
       "       [2.0265579e-06],\n",
       "       [9.9872953e-01],\n",
       "       [9.9787652e-01],\n",
       "       [2.4139881e-06],\n",
       "       [9.9761963e-01],\n",
       "       [9.9540997e-01],\n",
       "       [9.9537033e-01],\n",
       "       [9.9999988e-01],\n",
       "       [9.9847496e-01],\n",
       "       [9.9251139e-01],\n",
       "       [8.7535369e-01],\n",
       "       [1.1396408e-04],\n",
       "       [9.9965787e-01],\n",
       "       [5.2750111e-06],\n",
       "       [9.2436242e-01],\n",
       "       [4.8224217e-01],\n",
       "       [9.9973845e-01],\n",
       "       [9.7925198e-01],\n",
       "       [1.5735626e-05],\n",
       "       [2.9805108e-04],\n",
       "       [9.4793051e-01]], dtype=float32)"
      ]
     },
     "execution_count": 126,
     "metadata": {},
     "output_type": "execute_result"
    }
   ],
   "source": [
    "predictions = model.predict(x_test)\n",
    "predictions"
   ]
  },
  {
   "cell_type": "code",
   "execution_count": 127,
   "metadata": {},
   "outputs": [
    {
     "name": "stdout",
     "output_type": "stream",
     "text": [
      "114/114 [==============================] - 0s 61us/step\n"
     ]
    },
    {
     "data": {
      "text/plain": [
       "[0.13763555518367834, 0.9736841917037964]"
      ]
     },
     "execution_count": 127,
     "metadata": {},
     "output_type": "execute_result"
    }
   ],
   "source": [
    "score = model.evaluate(x_test, y_test)\n",
    "score"
   ]
  }
 ],
 "metadata": {
  "kernelspec": {
   "display_name": "Python 3",
   "language": "python",
   "name": "python3"
  },
  "language_info": {
   "codemirror_mode": {
    "name": "ipython",
    "version": 3
   },
   "file_extension": ".py",
   "mimetype": "text/x-python",
   "name": "python",
   "nbconvert_exporter": "python",
   "pygments_lexer": "ipython3",
   "version": "3.7.7"
  }
 },
 "nbformat": 4,
 "nbformat_minor": 2
}
